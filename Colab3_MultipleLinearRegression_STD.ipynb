{
  "cells": [
    {
      "cell_type": "markdown",
      "metadata": {
        "id": "view-in-github",
        "colab_type": "text"
      },
      "source": [
        "<a href=\"https://colab.research.google.com/github/toche7/mdsLab2/blob/main/Lab3_MultipleLinearRegression_STD.ipynb\" target=\"_parent\"><img src=\"https://colab.research.google.com/assets/colab-badge.svg\" alt=\"Open In Colab\"/></a>"
      ]
    },
    {
      "cell_type": "markdown",
      "metadata": {
        "collapsed": false,
        "id": "81hf8h2Uenl6"
      },
      "source": [
        "# Lab 3: Multiple Linear Regression"
      ]
    },
    {
      "cell_type": "markdown",
      "metadata": {
        "collapsed": false,
        "id": "NyQzGmdHenl-"
      },
      "source": [
        "Version 001"
      ]
    },
    {
      "cell_type": "markdown",
      "metadata": {
        "collapsed": false,
        "id": "Xr61jmrjenl-"
      },
      "source": [
        "```\n",
        "from sklearn.linear_model import LinearRegression\n",
        "reg = LinearRegression()\n",
        "reg.fit(X, y)\n",
        "```\n",
        "\n"
      ]
    },
    {
      "cell_type": "markdown",
      "metadata": {
        "collapsed": false,
        "id": "H33S8y57enl-"
      },
      "source": [
        "| Method | Description |\n",
        "| ------------|------------ |\n",
        "| fit(X, y ) | Fit linear model. |\n",
        "| predict(X) | Predict using the linear model. |\n",
        "| score(X, y) | Return the coefficient of determination of the prediction.|\n",
        "\n",
        "\n"
      ]
    },
    {
      "cell_type": "markdown",
      "metadata": {
        "collapsed": false,
        "id": "54hZX6-Wenl_"
      },
      "source": [
        "การสร้าง   Multiple Linear Regression จะใช้ library ในการสร้างโมเดลแบบเดียวกับการสร้าง simple linear regression model  \n",
        "แบบ Hypothesis Model ของ Multiple Linear Regression สามารถแสดงได้ดังนี้\n",
        "\n",
        "$$\n",
        "\\hat{y} = \\theta_0 + \\theta_1x_1 + \\theta_2x_2 +...+\\theta_nx_n \\tag{1}\n",
        "$$"
      ]
    },
    {
      "cell_type": "markdown",
      "source": [
        "![test](https://raw.githubusercontent.com/toche7/Picture/main/mlgmodel.png)"
      ],
      "metadata": {
        "id": "iiRPBbIOkVDl"
      }
    },
    {
      "cell_type": "markdown",
      "metadata": {
        "collapsed": false,
        "id": "Nm1d1F7cenmA"
      },
      "source": [
        "### 1.1 Exploratory  Data Analysis (EDA)"
      ]
    },
    {
      "cell_type": "code",
      "execution_count": null,
      "metadata": {
        "id": "EBmiofKDenmA"
      },
      "outputs": [],
      "source": [
        "import pandas as pd\n",
        "import numpy as np\n",
        "import matplotlib.pyplot as plt"
      ]
    },
    {
      "cell_type": "markdown",
      "metadata": {
        "id": "7H871rpnfEGo"
      },
      "source": [
        "โหลดข้อมูลจากไฟล์ RealEstate.csv"
      ]
    },
    {
      "cell_type": "code",
      "execution_count": null,
      "metadata": {
        "id": "M3nf55BuScqE"
      },
      "outputs": [],
      "source": [
        "#!wget https://raw.githubusercontent.com/toche7/DataSets/main/RealEstate.csv"
      ]
    },
    {
      "cell_type": "code",
      "execution_count": null,
      "metadata": {
        "id": "6nvtsMizfNi4"
      },
      "outputs": [],
      "source": [
        "df = pd.read_csv('https://github.com/toche7/DataSets/raw/main/RealEstate.csv')"
      ]
    },
    {
      "cell_type": "code",
      "execution_count": null,
      "metadata": {
        "id": "7w-mk-W9fNbd"
      },
      "outputs": [],
      "source": [
        "df"
      ]
    },
    {
      "cell_type": "markdown",
      "metadata": {
        "id": "-anHa0QSfRDA"
      },
      "source": [
        "ตรวจสอบข้อมูลด้วยคำสั่ง info()"
      ]
    },
    {
      "cell_type": "code",
      "execution_count": null,
      "metadata": {
        "id": "ZLIDu093fa8y"
      },
      "outputs": [],
      "source": [
        "df.info()"
      ]
    },
    {
      "cell_type": "code",
      "execution_count": null,
      "metadata": {
        "id": "Q3y5kpzPfa3m"
      },
      "outputs": [],
      "source": [
        "df.columns = ['No', 'X1', 'X2', 'X3', 'X4', 'X5', 'X6', 'Y']"
      ]
    },
    {
      "cell_type": "code",
      "execution_count": null,
      "metadata": {
        "id": "B4fDf_0Bfawo"
      },
      "outputs": [],
      "source": [
        "df.head()"
      ]
    },
    {
      "cell_type": "code",
      "execution_count": null,
      "metadata": {
        "id": "ppdAqv_YfqFr"
      },
      "outputs": [],
      "source": []
    },
    {
      "cell_type": "code",
      "execution_count": null,
      "metadata": {
        "id": "9aeYoprofqCQ"
      },
      "outputs": [],
      "source": []
    },
    {
      "cell_type": "code",
      "execution_count": null,
      "metadata": {
        "id": "vQXgD5Zpfp-3"
      },
      "outputs": [],
      "source": []
    },
    {
      "cell_type": "code",
      "execution_count": null,
      "metadata": {
        "id": "dwo2rc5Lfp7V"
      },
      "outputs": [],
      "source": []
    },
    {
      "cell_type": "code",
      "execution_count": null,
      "metadata": {
        "id": "dpaQCSwnfp3g"
      },
      "outputs": [],
      "source": []
    },
    {
      "cell_type": "markdown",
      "metadata": {
        "id": "J_8AhfEcfriA"
      },
      "source": [
        "ตรวจสอบค่า Correlation ของข้อมูล"
      ]
    },
    {
      "cell_type": "code",
      "execution_count": null,
      "metadata": {
        "id": "L0TR9AEkfwDF"
      },
      "outputs": [],
      "source": [
        "df.corr()"
      ]
    },
    {
      "cell_type": "code",
      "execution_count": null,
      "metadata": {
        "id": "cVI3N7uCfv5x"
      },
      "outputs": [],
      "source": []
    },
    {
      "cell_type": "code",
      "execution_count": null,
      "metadata": {
        "id": "gPtrCAw4fv2V"
      },
      "outputs": [],
      "source": []
    },
    {
      "cell_type": "markdown",
      "metadata": {
        "id": "MRqcKwNmhHiG"
      },
      "source": [
        "แสดงค่า correlation ด้วย heatmap"
      ]
    },
    {
      "cell_type": "code",
      "execution_count": null,
      "metadata": {
        "id": "5_y_WDf8enmD"
      },
      "outputs": [],
      "source": [
        "import seaborn as sns\n",
        "sns.heatmap(df.corr(),cmap=\"YlGnBu\")"
      ]
    },
    {
      "cell_type": "code",
      "execution_count": null,
      "metadata": {
        "id": "fPPXzrKEhPKV"
      },
      "outputs": [],
      "source": []
    },
    {
      "cell_type": "markdown",
      "metadata": {
        "id": "ul9L1ws9hQcG"
      },
      "source": [
        "แสดงภาพความสัมพันธ์แบบ scatter martix"
      ]
    },
    {
      "cell_type": "code",
      "execution_count": null,
      "metadata": {
        "id": "qeYobRjwenmD"
      },
      "outputs": [],
      "source": [
        "sns.pairplot(df)"
      ]
    },
    {
      "cell_type": "code",
      "execution_count": null,
      "metadata": {
        "id": "X8ThEFUffztD"
      },
      "outputs": [],
      "source": [
        "X = df[['X1', 'X2', 'X3', 'X4', 'X5', 'X6',]]"
      ]
    },
    {
      "cell_type": "code",
      "execution_count": null,
      "metadata": {
        "id": "XkhG_4Bxfzl-"
      },
      "outputs": [],
      "source": [
        "y = df[['Y']]"
      ]
    },
    {
      "cell_type": "markdown",
      "metadata": {
        "collapsed": false,
        "id": "dAGzoDjUenmE"
      },
      "source": [
        "### 1.2  Create Model Object and Training"
      ]
    },
    {
      "cell_type": "code",
      "execution_count": null,
      "metadata": {
        "id": "3z0ZpSb2f6Xk"
      },
      "outputs": [],
      "source": [
        "from sklearn.linear_model import LinearRegression"
      ]
    },
    {
      "cell_type": "code",
      "execution_count": null,
      "metadata": {
        "id": "69CiRD9yf6T6"
      },
      "outputs": [],
      "source": [
        "mLR = LinearRegression()"
      ]
    },
    {
      "cell_type": "code",
      "execution_count": null,
      "metadata": {
        "id": "6wqXqLoIf6QB"
      },
      "outputs": [],
      "source": [
        "mLR.fit(X,y)"
      ]
    },
    {
      "cell_type": "code",
      "execution_count": null,
      "metadata": {
        "id": "DKM-md_wf6L6"
      },
      "outputs": [],
      "source": []
    },
    {
      "cell_type": "markdown",
      "metadata": {
        "collapsed": false,
        "id": "Qc0B4sYoenmE"
      },
      "source": [
        "### 1.3 Predition and Evaluation"
      ]
    },
    {
      "cell_type": "markdown",
      "metadata": {
        "collapsed": false,
        "id": "vD98jwhHenmF"
      },
      "source": [
        "Predict value of $\\hat{y}$"
      ]
    },
    {
      "cell_type": "code",
      "execution_count": null,
      "metadata": {
        "id": "E05244_Zf9ys"
      },
      "outputs": [],
      "source": [
        "mLR.predict(X)"
      ]
    },
    {
      "cell_type": "code",
      "execution_count": null,
      "metadata": {
        "id": "p4j2Rbn4f9vK"
      },
      "outputs": [],
      "source": []
    },
    {
      "cell_type": "code",
      "execution_count": null,
      "metadata": {
        "id": "72jsbqKdf9rL"
      },
      "outputs": [],
      "source": []
    },
    {
      "cell_type": "markdown",
      "metadata": {
        "collapsed": false,
        "id": "G9d_fAXWenmF"
      },
      "source": [
        "Calculate the determination coefficient, $R^2$"
      ]
    },
    {
      "cell_type": "code",
      "execution_count": null,
      "metadata": {
        "id": "5w-GWfj7gDo9"
      },
      "outputs": [],
      "source": [
        "mLR.score(X,y)"
      ]
    },
    {
      "cell_type": "code",
      "execution_count": null,
      "metadata": {
        "id": "Cu4N1bvqgDj1"
      },
      "outputs": [],
      "source": []
    },
    {
      "cell_type": "code",
      "execution_count": null,
      "metadata": {
        "id": "lJUt4dbagDg8"
      },
      "outputs": [],
      "source": []
    },
    {
      "cell_type": "code",
      "execution_count": null,
      "metadata": {
        "id": "nZBKJgtBgDdP"
      },
      "outputs": [],
      "source": []
    },
    {
      "cell_type": "markdown",
      "metadata": {
        "collapsed": false,
        "id": "AsBzfypEenmF"
      },
      "source": [
        "Calculate the mean sequare error"
      ]
    },
    {
      "cell_type": "code",
      "execution_count": null,
      "metadata": {
        "id": "cmHmZdZ-enmF"
      },
      "outputs": [],
      "source": [
        "from sklearn.metrics import mean_squared_error\n",
        "predict = mLR.predict(X)\n",
        "mse1 = mean_squared_error(y, predict)\n",
        "mse1"
      ]
    },
    {
      "cell_type": "code",
      "execution_count": null,
      "metadata": {
        "id": "UmkWm8OggSCB"
      },
      "outputs": [],
      "source": []
    },
    {
      "cell_type": "code",
      "execution_count": null,
      "metadata": {
        "id": "NJusoidKgR-I"
      },
      "outputs": [],
      "source": []
    },
    {
      "cell_type": "code",
      "execution_count": null,
      "metadata": {
        "id": "uOf7n-tsenmG"
      },
      "outputs": [],
      "source": []
    },
    {
      "cell_type": "markdown",
      "metadata": {
        "collapsed": false,
        "id": "Bsjwnv_kenmG"
      },
      "source": [
        "### 1.4 Select Feature for Model Development"
      ]
    },
    {
      "cell_type": "code",
      "execution_count": null,
      "metadata": {
        "id": "3RUCX9Iagda6"
      },
      "outputs": [],
      "source": [
        "Xtrain = df[['X1','X2','X3', 'X4',  'X5', 'X6']]\n",
        "ytrain = df['Y']"
      ]
    },
    {
      "cell_type": "code",
      "execution_count": null,
      "metadata": {
        "id": "W62U35M9gdW4"
      },
      "outputs": [],
      "source": []
    },
    {
      "cell_type": "code",
      "execution_count": null,
      "metadata": {
        "id": "2ldAbi9mgdT4"
      },
      "outputs": [],
      "source": []
    },
    {
      "cell_type": "code",
      "execution_count": null,
      "metadata": {
        "id": "XN36UIq3gdQI"
      },
      "outputs": [],
      "source": []
    },
    {
      "cell_type": "markdown",
      "metadata": {
        "collapsed": false,
        "id": "LCp-W7XgenmH"
      },
      "source": [
        "###  1.5 Data Standardization and Scaling"
      ]
    },
    {
      "cell_type": "code",
      "execution_count": null,
      "metadata": {
        "id": "FHrPxa_WenmI"
      },
      "outputs": [],
      "source": [
        "from sklearn.preprocessing import StandardScaler\n",
        "sc = StandardScaler()\n",
        "Xsc = sc.fit_transform(Xtrain)\n",
        "Xsc.shape"
      ]
    },
    {
      "cell_type": "code",
      "execution_count": null,
      "metadata": {
        "id": "_o2UvDzcA8LN"
      },
      "outputs": [],
      "source": []
    },
    {
      "cell_type": "code",
      "execution_count": null,
      "metadata": {
        "id": "XPBhvUJRgrrI"
      },
      "outputs": [],
      "source": [
        "y = df[['Y']]"
      ]
    },
    {
      "cell_type": "code",
      "execution_count": null,
      "metadata": {
        "id": "PaXKhlrSgrm1"
      },
      "outputs": [],
      "source": [
        "mLR.fit(Xsc,y)\n",
        "mLR.score(Xsc,y)"
      ]
    },
    {
      "cell_type": "code",
      "execution_count": null,
      "metadata": {
        "id": "ETLvWYaIgrit"
      },
      "outputs": [],
      "source": []
    },
    {
      "cell_type": "code",
      "execution_count": null,
      "metadata": {
        "id": "WGatmYbgenmQ"
      },
      "outputs": [],
      "source": []
    }
  ],
  "metadata": {
    "colab": {
      "provenance": [],
      "include_colab_link": true
    },
    "kernelspec": {
      "argv": [
        "/usr/bin/python3",
        "-m",
        "ipykernel",
        "--HistoryManager.enabled=False",
        "--matplotlib=inline",
        "-c",
        "%config InlineBackend.figure_formats = set(['retina'])\nimport matplotlib; matplotlib.rcParams['figure.figsize'] = (12, 7)",
        "-f",
        "{connection_file}"
      ],
      "display_name": "Python 3 (system-wide)",
      "env": {},
      "language": "python",
      "metadata": {
        "cocalc": {
          "description": "Python 3 programming language",
          "priority": 100,
          "url": "https://www.python.org/"
        }
      },
      "name": "python3",
      "resource_dir": "/ext/jupyter/kernels/python3"
    },
    "language_info": {
      "codemirror_mode": {
        "name": "ipython",
        "version": 3
      },
      "file_extension": ".py",
      "mimetype": "text/x-python",
      "name": "python",
      "nbconvert_exporter": "python",
      "pygments_lexer": "ipython3",
      "version": "3.10.13"
    },
    "nbgrader": {
      "__altered": false,
      "__hash": -341060574,
      "_root": {
        "entries": [
          [
            "size",
            6
          ],
          [
            "_root",
            {
              "entries": [
                [
                  "size",
                  1
                ],
                [
                  "_root",
                  {
                    "entries": [
                      [
                        "cocalc_minimal_stubs",
                        false
                      ]
                    ],
                    "ownerID": {}
                  }
                ],
                [
                  "__ownerID",
                  null
                ],
                [
                  "__hash",
                  -335098374
                ],
                [
                  "__altered",
                  false
                ],
                [
                  "cocalc_minimal_stubs",
                  false
                ]
              ],
              "ownerID": {}
            }
          ],
          [
            "__ownerID",
            null
          ],
          [
            "__hash",
            633336276
          ],
          [
            "__altered",
            false
          ],
          [
            "cocalc_minimal_stubs",
            false
          ]
        ],
        "ownerID": {}
      },
      "cocalc_minimal_stubs": false,
      "size": 6
    }
  },
  "nbformat": 4,
  "nbformat_minor": 0
}